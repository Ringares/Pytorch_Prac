{
 "cells": [
  {
   "cell_type": "code",
   "execution_count": 122,
   "metadata": {
    "ExecuteTime": {
     "end_time": "2019-11-26T12:27:22.285628Z",
     "start_time": "2019-11-26T12:27:22.276468Z"
    }
   },
   "outputs": [],
   "source": [
    "%matplotlib inline\n",
    "import torch\n",
    "import torchvision\n",
    "from IPython import display\n",
    "from matplotlib import pyplot as plt\n",
    "import numpy as np\n",
    "import random\n",
    "\n",
    "import pandas as pd\n",
    "from sklearn.preprocessing import LabelEncoder\n",
    "from sklearn.metrics import roc_auc_score\n",
    "import tqdm"
   ]
  },
  {
   "cell_type": "code",
   "execution_count": 123,
   "metadata": {
    "ExecuteTime": {
     "end_time": "2019-11-26T12:27:22.768271Z",
     "start_time": "2019-11-26T12:27:22.754063Z"
    }
   },
   "outputs": [],
   "source": [
    "class AvazuDataSet(torch.utils.data.Dataset):\n",
    "    def __init__(self, file_path):\n",
    "        self.data = pd.read_csv(file_path, index_col=False, sep=',')\n",
    "        self.len = len(self.data)\n",
    "        lable = 'click'\n",
    "        sparse_features = ['id', 'hour', 'C1', 'banner_pos', \n",
    "                   'site_id', 'site_domain','site_category', \n",
    "                   'app_id', 'app_domain', 'app_category', \n",
    "                   'device_id','device_ip', 'device_model', 'device_type', 'device_conn_type', \n",
    "                   'C14','C15', 'C16', 'C17', 'C18', 'C19', 'C20', 'C21']\n",
    "        #print(self.data.columns)\n",
    "        self.feat_dims = []\n",
    "        for feat in sparse_features:\n",
    "            lbe = LabelEncoder()\n",
    "            self.data[feat] = lbe.fit_transform(self.data[feat])\n",
    "            self.feat_dims.append(len(lbe.classes_))\n",
    "            \n",
    "        self.features = self.data[sparse_features]\n",
    "        self.targets = self.data[lable]\n",
    "\n",
    "    def __len__(self):\n",
    "        return self.len\n",
    "\n",
    "    def __getitem__(self, index):\n",
    "        return torch.tensor(self.features.iloc[index].to_numpy(), dtype=torch.long), torch.tensor(self.targets.iloc[index], dtype=torch.float32)\n",
    "    \n",
    "    def get_feat_dims(self):\n",
    "        return self.feat_dims"
   ]
  },
  {
   "cell_type": "code",
   "execution_count": 124,
   "metadata": {
    "ExecuteTime": {
     "end_time": "2019-11-26T12:27:22.888655Z",
     "start_time": "2019-11-26T12:27:22.836197Z"
    }
   },
   "outputs": [
    {
     "name": "stdout",
     "output_type": "stream",
     "text": [
      "tensor([[159,   0,   2,   0,  70,  86,   4,  64,   5,   1,  86, 893, 171,   1,\n",
      "           0,   4,   2,   1,   3,   2,   1,  35,   4],\n",
      "        [370,   0,   2,   0,  21,  71,   8,  69,   6,   0,  86, 151, 177,   1,\n",
      "           0,   4,   2,   1,   3,   2,   1,  35,   4],\n",
      "        [789,   0,   2,   0,  76,  50,   3,  69,   6,   0,  86, 565, 171,   1,\n",
      "           0,  42,   1,   2,  32,   2,   1,  26,   5],\n",
      "        [607,   0,   2,   1, 105,  55,   8,  69,   6,   0,  86,  80, 247,   1,\n",
      "           0,   4,   2,   1,   3,   2,   1,  35,   4],\n",
      "        [542,   0,   2,   0, 114,  38,   8,  69,   6,   0,  86, 614,  27,   1,\n",
      "           0,  81,   2,   1,  40,   0,   0,   0,  20],\n",
      "        [262,   0,   2,   0,  17, 103,   1,  69,   6,   0,  86, 321, 155,   1,\n",
      "           0,  22,   2,   1,  14,   0,   0,   0,  12],\n",
      "        [470,   0,   2,   0,  70,  86,   4,  43,  14,   1,  86, 707, 324,   1,\n",
      "           0,  88,   2,   1,  55,   0,  16,  49,   7],\n",
      "        [646,   0,   2,   0,  70,  86,   4,  22,   1,   1,  86, 729, 307,   1,\n",
      "           0,   8,   2,   1,   5,   2,   1,   0,   4]]) tensor([1., 0., 0., 1., 0., 0., 0., 0.])\n",
      "torch.Size([8, 23]) torch.Size([8])\n",
      "[999, 1, 4, 2, 122, 109, 10, 75, 15, 7, 127, 909, 341, 4, 3, 105, 3, 3, 68, 4, 27, 54, 21]\n"
     ]
    }
   ],
   "source": [
    "data_set = CriteoDataSet('../data/avazu_sample.txt')\n",
    "\n",
    "data_loader = torch.utils.data.DataLoader(data_set, batch_size=8, shuffle=True)\n",
    "for x, y in data_loader:\n",
    "    print(x, y)\n",
    "    print(x.shape, y.shape)\n",
    "    break\n",
    "    \n",
    "feat_dims = data_set.get_feat_dims()\n",
    "print(feat_dims)"
   ]
  },
  {
   "cell_type": "code",
   "execution_count": 125,
   "metadata": {
    "ExecuteTime": {
     "end_time": "2019-11-26T12:27:22.944313Z",
     "start_time": "2019-11-26T12:27:22.929674Z"
    }
   },
   "outputs": [],
   "source": [
    "class FeaturesLinear(torch.nn.Module):\n",
    "\n",
    "    def __init__(self, field_dims, output_dim=1):\n",
    "        super().__init__()\n",
    "        self.fc = torch.nn.Embedding(sum(field_dims), output_dim)\n",
    "        self.bias = torch.nn.Parameter(torch.zeros((output_dim,)))\n",
    "        self.offsets = np.array((0, *np.cumsum(field_dims)[:-1]), dtype=np.long)\n",
    "\n",
    "    def forward(self, x):\n",
    "        \"\"\"\n",
    "        :param x: Long tensor of size ``(batch_size, num_fields)``\n",
    "        \"\"\"\n",
    "        x = x + x.new_tensor(self.offsets).unsqueeze(0)\n",
    "        return torch.sum(self.fc(x), dim=1) + self.bias\n",
    "\n",
    "\n",
    "class FeaturesEmbedding(torch.nn.Module):\n",
    "\n",
    "    def __init__(self, field_dims, embed_dim):\n",
    "        super().__init__()\n",
    "        self.embedding = torch.nn.Embedding(sum(field_dims), embed_dim)\n",
    "        self.offsets = np.array((0, *np.cumsum(field_dims)[:-1]), dtype=np.long)\n",
    "        torch.nn.init.xavier_uniform_(self.embedding.weight.data)\n",
    "\n",
    "    def forward(self, x):\n",
    "        \"\"\"\n",
    "        :param x: Long tensor of size ``(batch_size, num_fields)``\n",
    "        \"\"\"\n",
    "        x = x + x.new_tensor(self.offsets).unsqueeze(0)\n",
    "        return self.embedding(x)\n",
    "    \n",
    "class FactorizationMachine(torch.nn.Module):\n",
    "\n",
    "    def __init__(self, reduce_sum=True):\n",
    "        super().__init__()\n",
    "        self.reduce_sum = reduce_sum\n",
    "\n",
    "    def forward(self, x):\n",
    "        \"\"\"\n",
    "        :param x: Float tensor of size ``(batch_size, num_fields, embed_dim)``\n",
    "        \"\"\"\n",
    "        square_of_sum = torch.sum(x, dim=1) ** 2\n",
    "        sum_of_square = torch.sum(x ** 2, dim=1)\n",
    "        ix = square_of_sum - sum_of_square\n",
    "        if self.reduce_sum:\n",
    "            ix = torch.sum(ix, dim=1, keepdim=True)\n",
    "        return 0.5 * ix"
   ]
  },
  {
   "cell_type": "code",
   "execution_count": 126,
   "metadata": {
    "ExecuteTime": {
     "end_time": "2019-11-26T12:27:23.020417Z",
     "start_time": "2019-11-26T12:27:23.009720Z"
    }
   },
   "outputs": [],
   "source": [
    "class FactorizationMachineModel(torch.nn.Module):\n",
    "    \"\"\"\n",
    "    A pytorch implementation of Factorization Machine.\n",
    "\n",
    "    Reference:\n",
    "        S Rendle, Factorization Machines, 2010.\n",
    "    \"\"\"\n",
    "\n",
    "    def __init__(self, field_dims, embed_dim):\n",
    "        super().__init__()\n",
    "        self.embedding = FeaturesEmbedding(field_dims, embed_dim)\n",
    "        self.linear = FeaturesLinear(field_dims)\n",
    "        self.fm = FactorizationMachine(reduce_sum=True)\n",
    "\n",
    "    def forward(self, x):\n",
    "        \"\"\"\n",
    "        :param x: Long tensor of size ``(batch_size, num_fields)``\n",
    "        \"\"\"\n",
    "        x = self.linear(x) + self.fm(self.embedding(x))\n",
    "        return torch.sigmoid(x.squeeze(1))"
   ]
  },
  {
   "cell_type": "code",
   "execution_count": 127,
   "metadata": {
    "ExecuteTime": {
     "end_time": "2019-11-26T12:27:23.103046Z",
     "start_time": "2019-11-26T12:27:23.095264Z"
    }
   },
   "outputs": [
    {
     "name": "stdout",
     "output_type": "stream",
     "text": [
      "FactorizationMachineModel(\n",
      "  (embedding): FeaturesEmbedding(\n",
      "    (embedding): Embedding(3013, 16)\n",
      "  )\n",
      "  (linear): FeaturesLinear(\n",
      "    (fc): Embedding(3013, 1)\n",
      "  )\n",
      "  (fm): FactorizationMachine()\n",
      ")\n"
     ]
    }
   ],
   "source": [
    "model = FactorizationMachineModel(feat_dims, 16)\n",
    "print(model)"
   ]
  },
  {
   "cell_type": "code",
   "execution_count": 128,
   "metadata": {
    "ExecuteTime": {
     "end_time": "2019-11-26T12:27:23.184821Z",
     "start_time": "2019-11-26T12:27:23.177014Z"
    }
   },
   "outputs": [
    {
     "name": "stdout",
     "output_type": "stream",
     "text": [
      "embedding.embedding.weight\n",
      "torch.Size([3013, 16])\n",
      "linear.bias\n",
      "torch.Size([1])\n",
      "linear.fc.weight\n",
      "torch.Size([3013, 1])\n"
     ]
    }
   ],
   "source": [
    "for name, p in model.named_parameters():\n",
    "    print(name)\n",
    "    print(p.shape)"
   ]
  },
  {
   "cell_type": "code",
   "execution_count": 129,
   "metadata": {
    "ExecuteTime": {
     "end_time": "2019-11-26T12:27:23.272491Z",
     "start_time": "2019-11-26T12:27:23.259262Z"
    }
   },
   "outputs": [],
   "source": [
    "### Train\n",
    "def run_train(model, optimizer, data_loader, criterion, device, log_interval=1000):\n",
    "    model.train()\n",
    "    total_loss = 0\n",
    "    for i, (fields, target) in enumerate(tqdm.tqdm(data_loader, smoothing=0, mininterval=1.0)):\n",
    "        fields, target = fields.to(device), target.to(device)\n",
    "        y = model(fields)\n",
    "        loss = criterion(y, target.float())\n",
    "        model.zero_grad()\n",
    "        loss.backward()\n",
    "        optimizer.step()\n",
    "        total_loss += loss.item()\n",
    "        if (i + 1) % log_interval == 0:\n",
    "            print('    - loss:', total_loss / log_interval)\n",
    "            total_loss = 0\n",
    "\n",
    "def run_test(model, data_loader, device):\n",
    "    model.eval()\n",
    "    targets, predicts = list(), list()\n",
    "    with torch.no_grad():\n",
    "        for fields, target in tqdm.tqdm(data_loader, smoothing=0, mininterval=1.0):\n",
    "            fields, target = fields.to(device), target.to(device)\n",
    "            y = model(fields)\n",
    "            targets.extend(target.tolist())\n",
    "            predicts.extend(y.tolist())\n",
    "    return roc_auc_score(targets, predicts)"
   ]
  },
  {
   "cell_type": "code",
   "execution_count": 130,
   "metadata": {
    "ExecuteTime": {
     "end_time": "2019-11-26T12:27:23.349213Z",
     "start_time": "2019-11-26T12:27:23.341463Z"
    }
   },
   "outputs": [
    {
     "name": "stdout",
     "output_type": "stream",
     "text": [
      "799 99 101\n"
     ]
    }
   ],
   "source": [
    "train_length = int(len(data_set) * 0.8)\n",
    "valid_length = int(len(data_set) * 0.1)\n",
    "test_length = len(data_set) - train_length - valid_length\n",
    "train_dataset, valid_dataset, test_dataset = torch.utils.data.random_split(\n",
    "    data_set, (train_length, valid_length, test_length))\n",
    "print(len(train_dataset), len(valid_dataset), len(test_dataset))"
   ]
  },
  {
   "cell_type": "code",
   "execution_count": 131,
   "metadata": {
    "ExecuteTime": {
     "end_time": "2019-11-26T12:27:23.854337Z",
     "start_time": "2019-11-26T12:27:23.849021Z"
    }
   },
   "outputs": [],
   "source": [
    "# config\n",
    "config = {\n",
    "    'batch_size': 32,\n",
    "    'lr':1e-3,\n",
    "    'weight_decay': 1e-6,\n",
    "    'epoch':3,\n",
    "    'device':'cpu'\n",
    "}\n",
    "device = torch.device(config['device')"
   ]
  },
  {
   "cell_type": "code",
   "execution_count": 132,
   "metadata": {
    "ExecuteTime": {
     "end_time": "2019-11-26T12:27:24.008786Z",
     "start_time": "2019-11-26T12:27:24.002078Z"
    }
   },
   "outputs": [],
   "source": [
    "train_data_loader = torch.utils.data.DataLoader(train_dataset, batch_size=config['batch_size'], shuffle=True,num_workers=8)\n",
    "valid_data_loader = torch.utils.data.DataLoader(valid_dataset, batch_size=config['batch_size'], shuffle=True, num_workers=8)\n",
    "test_data_loader = torch.utils.data.DataLoader(test_dataset, batch_size=config['batch_size'], shuffle=True, num_workers=8)\n",
    "\n",
    "criterion = torch.nn.BCELoss()\n",
    "optimizer = torch.optim.Adam(params=model.parameters(), lr=config['lr'], weight_decay=config['weight_decay'])"
   ]
  },
  {
   "cell_type": "code",
   "execution_count": 133,
   "metadata": {
    "ExecuteTime": {
     "end_time": "2019-11-26T12:27:24.169302Z",
     "start_time": "2019-11-26T12:27:24.162800Z"
    }
   },
   "outputs": [],
   "source": [
    "model = FactorizationMachineModel(feat_dims, 16)"
   ]
  },
  {
   "cell_type": "code",
   "execution_count": 134,
   "metadata": {
    "ExecuteTime": {
     "end_time": "2019-11-26T12:27:25.897878Z",
     "start_time": "2019-11-26T12:27:24.308784Z"
    }
   },
   "outputs": [
    {
     "name": "stderr",
     "output_type": "stream",
     "text": [
      "100%|██████████| 25/25 [00:00<00:00, 62.71it/s]\n",
      "100%|██████████| 4/4 [00:00<00:00, 34.82it/s]\n",
      "  0%|          | 0/25 [00:00<?, ?it/s]"
     ]
    },
    {
     "name": "stdout",
     "output_type": "stream",
     "text": [
      "epoch: 0 validation: auc: 0.5566714490674318\n"
     ]
    },
    {
     "name": "stderr",
     "output_type": "stream",
     "text": [
      "100%|██████████| 25/25 [00:00<00:00, 74.68it/s]\n",
      "100%|██████████| 4/4 [00:00<00:00, 31.18it/s]\n",
      "  0%|          | 0/25 [00:00<?, ?it/s]"
     ]
    },
    {
     "name": "stdout",
     "output_type": "stream",
     "text": [
      "epoch: 1 validation: auc: 0.5566714490674318\n"
     ]
    },
    {
     "name": "stderr",
     "output_type": "stream",
     "text": [
      "100%|██████████| 25/25 [00:00<00:00, 57.01it/s]\n",
      "100%|██████████| 4/4 [00:00<00:00, 30.80it/s]"
     ]
    },
    {
     "name": "stdout",
     "output_type": "stream",
     "text": [
      "epoch: 2 validation: auc: 0.5566714490674318\n"
     ]
    },
    {
     "name": "stderr",
     "output_type": "stream",
     "text": [
      "\n"
     ]
    }
   ],
   "source": [
    "for epoch_i in range(config['epoch']):\n",
    "    run_train(model, optimizer, train_data_loader, criterion, device)\n",
    "    auc = run_test(model, valid_data_loader, device)\n",
    "    print('epoch:', epoch_i, 'validation: auc:', auc)"
   ]
  },
  {
   "cell_type": "code",
   "execution_count": null,
   "metadata": {},
   "outputs": [],
   "source": []
  },
  {
   "cell_type": "code",
   "execution_count": null,
   "metadata": {},
   "outputs": [],
   "source": []
  },
  {
   "cell_type": "code",
   "execution_count": null,
   "metadata": {},
   "outputs": [],
   "source": []
  }
 ],
 "metadata": {
  "kernelspec": {
   "display_name": "Python 3",
   "language": "python",
   "name": "python3"
  },
  "language_info": {
   "codemirror_mode": {
    "name": "ipython",
    "version": 3
   },
   "file_extension": ".py",
   "mimetype": "text/x-python",
   "name": "python",
   "nbconvert_exporter": "python",
   "pygments_lexer": "ipython3",
   "version": "3.6.9"
  },
  "toc": {
   "base_numbering": 1,
   "nav_menu": {},
   "number_sections": true,
   "sideBar": true,
   "skip_h1_title": false,
   "title_cell": "Table of Contents",
   "title_sidebar": "Contents",
   "toc_cell": false,
   "toc_position": {},
   "toc_section_display": true,
   "toc_window_display": false
  }
 },
 "nbformat": 4,
 "nbformat_minor": 2
}

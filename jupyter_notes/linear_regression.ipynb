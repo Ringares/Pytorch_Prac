{
 "cells": [
  {
   "cell_type": "code",
   "execution_count": 1,
   "metadata": {
    "ExecuteTime": {
     "end_time": "2019-11-19T10:53:32.487419Z",
     "start_time": "2019-11-19T10:53:31.339284Z"
    }
   },
   "outputs": [],
   "source": [
    "%matplotlib inline\n",
    "import torch\n",
    "from IPython import display\n",
    "from matplotlib import pyplot as plt\n",
    "import numpy as np\n",
    "import random"
   ]
  },
  {
   "cell_type": "code",
   "execution_count": 2,
   "metadata": {
    "ExecuteTime": {
     "end_time": "2019-11-19T10:53:33.122085Z",
     "start_time": "2019-11-19T10:53:33.093202Z"
    }
   },
   "outputs": [
    {
     "data": {
      "text/plain": [
       "(torch.Size([1000, 2]), torch.Size([1000, 1]))"
      ]
     },
     "execution_count": 2,
     "metadata": {},
     "output_type": "execute_result"
    }
   ],
   "source": [
    "## 生成数据集\n",
    "true_weight = [2, -3]\n",
    "true_bias = 1.8\n",
    "\n",
    "features = torch.randn(1000, 2, dtype=torch.float32)\n",
    "labels = torch.mm(features, torch.tensor(true_weight, dtype=torch.float32).view((2,1))) + true_bias \n",
    "labels += torch.tensor(np.random.normal(0, 0.01, size=labels.shape))\n",
    "features.shape, labels.shape"
   ]
  },
  {
   "cell_type": "code",
   "execution_count": 3,
   "metadata": {
    "ExecuteTime": {
     "end_time": "2019-11-19T10:53:33.262828Z",
     "start_time": "2019-11-19T10:53:33.257254Z"
    }
   },
   "outputs": [],
   "source": [
    "## 读取数据, 建立 batch_iter\n",
    "\n",
    "batch_size = 10\n",
    "data_set = torch.utils.data.TensorDataset(features, labels)\n",
    "data_iter = torch.utils.data.DataLoader(data_set, batch_size, shuffle=True)"
   ]
  },
  {
   "cell_type": "code",
   "execution_count": 4,
   "metadata": {
    "ExecuteTime": {
     "end_time": "2019-11-19T10:53:33.406340Z",
     "start_time": "2019-11-19T10:53:33.384495Z"
    }
   },
   "outputs": [
    {
     "name": "stdout",
     "output_type": "stream",
     "text": [
      "[tensor([[ 0.1800,  0.3207],\n",
      "        [-1.4036,  1.2887],\n",
      "        [-0.2297, -1.0200],\n",
      "        [-0.5457,  0.3420],\n",
      "        [ 1.2325,  0.1081],\n",
      "        [ 0.5801,  0.0608],\n",
      "        [-1.4980,  1.3699],\n",
      "        [-0.2110,  1.1738],\n",
      "        [ 0.1474,  1.1944],\n",
      "        [-0.9814,  0.6353]]), tensor([[ 1.1970],\n",
      "        [-4.8788],\n",
      "        [ 4.4226],\n",
      "        [-0.3077],\n",
      "        [ 3.9482],\n",
      "        [ 2.7760],\n",
      "        [-5.3029],\n",
      "        [-2.1424],\n",
      "        [-1.4962],\n",
      "        [-2.0764]])]\n"
     ]
    }
   ],
   "source": [
    "for i in data_iter:\n",
    "    print(i)\n",
    "    break"
   ]
  },
  {
   "cell_type": "code",
   "execution_count": 5,
   "metadata": {
    "ExecuteTime": {
     "end_time": "2019-11-19T10:53:33.568443Z",
     "start_time": "2019-11-19T10:53:33.557119Z"
    }
   },
   "outputs": [
    {
     "name": "stdout",
     "output_type": "stream",
     "text": [
      "LinearNet(\n",
      "  (linear): Linear(in_features=2, out_features=1, bias=True)\n",
      ")\n"
     ]
    }
   ],
   "source": [
    "w = torch.tensor(np.random.normal(0, 0.1, size=(2,1)), dtype=torch.float32, requires_grad=True)\n",
    "b = torch.zeros(1, dtype=torch.float32, requires_grad=True)\n",
    "\n",
    "class LinearNet(torch.nn.Module):\n",
    "    def __init__(self):\n",
    "        super(LinearNet, self).__init__()\n",
    "        self.linear = torch.nn.Linear(in_features=2, out_features=1, bias=True)\n",
    "        torch.nn.init.normal_(self.linear.weight, 0., 0.1)\n",
    "        torch.nn.init.constant_(self.linear.bias, 0.)\n",
    "    \n",
    "    def forward(self, x):\n",
    "        return self.linear(x)\n",
    "\n",
    "net = LinearNet()\n",
    "print(net)"
   ]
  },
  {
   "cell_type": "code",
   "execution_count": 6,
   "metadata": {
    "ExecuteTime": {
     "end_time": "2019-11-19T10:53:33.987285Z",
     "start_time": "2019-11-19T10:53:33.983396Z"
    }
   },
   "outputs": [],
   "source": [
    "#torch.nn.Module??"
   ]
  },
  {
   "cell_type": "code",
   "execution_count": 7,
   "metadata": {
    "ExecuteTime": {
     "end_time": "2019-11-19T10:53:34.333314Z",
     "start_time": "2019-11-19T10:53:34.325811Z"
    }
   },
   "outputs": [
    {
     "name": "stdout",
     "output_type": "stream",
     "text": [
      "Parameter containing:\n",
      "tensor([[-0.0609, -0.0697]], requires_grad=True)\n",
      "Parameter containing:\n",
      "tensor([0.], requires_grad=True)\n"
     ]
    }
   ],
   "source": [
    "## 查看参数\n",
    "for param in net.parameters():\n",
    "    print(param)\n",
    "    \n",
    "## 初始化参数\n",
    "# torch.nn.init.normal_(net.linear.weight, 0., 0.1)\n",
    "# torch.nn.init.constant_(net.linear.bias, 0.)"
   ]
  },
  {
   "cell_type": "code",
   "execution_count": 8,
   "metadata": {
    "ExecuteTime": {
     "end_time": "2019-11-19T10:53:35.246854Z",
     "start_time": "2019-11-19T10:53:35.241946Z"
    }
   },
   "outputs": [
    {
     "name": "stdout",
     "output_type": "stream",
     "text": [
      "MSELoss()\n",
      "SGD (\n",
      "Parameter Group 0\n",
      "    dampening: 0\n",
      "    lr: 0.03\n",
      "    momentum: 0\n",
      "    nesterov: False\n",
      "    weight_decay: 0\n",
      ")\n"
     ]
    }
   ],
   "source": [
    "loss = torch.nn.MSELoss()\n",
    "print(loss)\n",
    "\n",
    "optimizer = torch.optim.SGD(net.parameters(), lr=0.03, )\n",
    "print(optimizer)\n",
    "\n",
    "# optimizer =optim.SGD([\n",
    "#     # 如果对某个参数不指定学习率，就使用最外层的默认学习率\n",
    "#     {'params': net.subnet1.parameters()}, # lr=0.03\n",
    "#     {'params': net.subnet2.parameters(), 'lr': 0.01}\n",
    "# ], lr=0.03)"
   ]
  },
  {
   "cell_type": "code",
   "execution_count": 9,
   "metadata": {
    "ExecuteTime": {
     "end_time": "2019-11-19T10:53:35.937655Z",
     "start_time": "2019-11-19T10:53:35.795113Z"
    }
   },
   "outputs": [
    {
     "name": "stdout",
     "output_type": "stream",
     "text": [
      "epoch 1, loss: 0.000158\n",
      "epoch 2, loss: 0.000138\n",
      "epoch 3, loss: 0.000061\n"
     ]
    }
   ],
   "source": [
    "num_epochs = 3\n",
    "for epoch in range(1, num_epochs + 1):\n",
    "    for X, y in data_iter:\n",
    "        optimizer.zero_grad() # 梯度清零，等价于net.zero_grad()\n",
    "        output = net(X)\n",
    "        l = loss(output, y.view(output.shape))\n",
    "        l.backward()\n",
    "        optimizer.step()\n",
    "    print('epoch %d, loss: %f' % (epoch, l.item()))"
   ]
  },
  {
   "cell_type": "code",
   "execution_count": 10,
   "metadata": {
    "ExecuteTime": {
     "end_time": "2019-11-19T10:53:36.327916Z",
     "start_time": "2019-11-19T10:53:36.321096Z"
    }
   },
   "outputs": [
    {
     "name": "stdout",
     "output_type": "stream",
     "text": [
      "[2, -3] Parameter containing:\n",
      "tensor([[ 1.9997, -3.0000]], requires_grad=True)\n",
      "1.8 Parameter containing:\n",
      "tensor([1.7993], requires_grad=True)\n"
     ]
    }
   ],
   "source": [
    "print(true_weight, net.linear.weight)\n",
    "print(true_bias, net.linear.bias)"
   ]
  },
  {
   "cell_type": "markdown",
   "metadata": {},
   "source": [
    "**with regularization**"
   ]
  },
  {
   "cell_type": "code",
   "execution_count": 11,
   "metadata": {
    "ExecuteTime": {
     "end_time": "2019-11-19T10:53:37.131817Z",
     "start_time": "2019-11-19T10:53:37.126207Z"
    }
   },
   "outputs": [
    {
     "name": "stdout",
     "output_type": "stream",
     "text": [
      "LinearNet(\n",
      "  (linear): Linear(in_features=2, out_features=1, bias=True)\n",
      ")\n"
     ]
    }
   ],
   "source": [
    "net = LinearNet() # initiallized\n",
    "print(net)\n",
    "\n",
    "optimizer_w = torch.optim.SGD([net.linear.weight], lr=0.03, weight_decay=0.1)\n",
    "optimizer_b = torch.optim.SGD([net.linear.bias], lr=0.03)"
   ]
  },
  {
   "cell_type": "code",
   "execution_count": 12,
   "metadata": {
    "ExecuteTime": {
     "end_time": "2019-11-19T10:53:37.920626Z",
     "start_time": "2019-11-19T10:53:37.565293Z"
    }
   },
   "outputs": [
    {
     "name": "stdout",
     "output_type": "stream",
     "text": [
      "epoch 1, loss: 0.017943\n",
      "epoch 2, loss: 0.023046\n",
      "epoch 3, loss: 0.021141\n",
      "epoch 4, loss: 0.033864\n",
      "epoch 5, loss: 0.033869\n",
      "epoch 6, loss: 0.022412\n",
      "epoch 7, loss: 0.055030\n",
      "epoch 8, loss: 0.021079\n",
      "epoch 9, loss: 0.020980\n",
      "epoch 10, loss: 0.034851\n"
     ]
    }
   ],
   "source": [
    "num_epochs = 10\n",
    "optimizers = [optimizer_w, optimizer_b]\n",
    "for epoch in range(1, num_epochs+1):\n",
    "    for X, y in data_iter:\n",
    "        for opti in optimizers:\n",
    "            opti.zero_grad()\n",
    "        y_hat = net(X)\n",
    "        l = loss(y_hat, y.view(y_hat.shape))\n",
    "        l.backward()\n",
    "        \n",
    "        for opti in optimizers:\n",
    "            opti.step()\n",
    "    print('epoch %d, loss: %f' % (epoch, l.item()))    "
   ]
  },
  {
   "cell_type": "code",
   "execution_count": 13,
   "metadata": {
    "ExecuteTime": {
     "end_time": "2019-11-19T10:53:41.003812Z",
     "start_time": "2019-11-19T10:53:40.997137Z"
    }
   },
   "outputs": [
    {
     "name": "stdout",
     "output_type": "stream",
     "text": [
      "[2, -3] Parameter containing:\n",
      "tensor([[ 1.9326, -2.8590]], requires_grad=True)\n",
      "1.8 Parameter containing:\n",
      "tensor([1.8000], requires_grad=True)\n"
     ]
    }
   ],
   "source": [
    "print(true_weight, net.linear.weight)\n",
    "print(true_bias, net.linear.bias)"
   ]
  },
  {
   "cell_type": "code",
   "execution_count": null,
   "metadata": {},
   "outputs": [],
   "source": []
  }
 ],
 "metadata": {
  "kernelspec": {
   "display_name": "Python 3",
   "language": "python",
   "name": "python3"
  },
  "language_info": {
   "codemirror_mode": {
    "name": "ipython",
    "version": 3
   },
   "file_extension": ".py",
   "mimetype": "text/x-python",
   "name": "python",
   "nbconvert_exporter": "python",
   "pygments_lexer": "ipython3",
   "version": "3.6.9"
  },
  "toc": {
   "base_numbering": 1.0,
   "nav_menu": {},
   "number_sections": true,
   "sideBar": true,
   "skip_h1_title": false,
   "title_cell": "Table of Contents",
   "title_sidebar": "Contents",
   "toc_cell": false,
   "toc_position": {},
   "toc_section_display": true,
   "toc_window_display": false
  }
 },
 "nbformat": 4,
 "nbformat_minor": 2
}

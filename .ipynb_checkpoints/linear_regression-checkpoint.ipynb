{
 "cells": [
  {
   "cell_type": "code",
   "execution_count": 3,
   "metadata": {
    "ExecuteTime": {
     "end_time": "2019-11-17T09:17:42.072507Z",
     "start_time": "2019-11-17T09:17:41.749792Z"
    }
   },
   "outputs": [],
   "source": [
    "%matplotlib inline\n",
    "import torch\n",
    "from IPython import display\n",
    "from matplotlib import pyplot as plt\n",
    "import numpy as np\n",
    "import random"
   ]
  },
  {
   "cell_type": "code",
   "execution_count": 5,
   "metadata": {
    "ExecuteTime": {
     "end_time": "2019-11-17T09:17:42.112646Z",
     "start_time": "2019-11-17T09:17:42.099092Z"
    }
   },
   "outputs": [
    {
     "data": {
      "text/plain": [
       "(torch.Size([1000, 2]), torch.Size([1000, 1]))"
      ]
     },
     "execution_count": 5,
     "metadata": {},
     "output_type": "execute_result"
    }
   ],
   "source": [
    "## 生成数据集\n",
    "true_weight = [2, -3]\n",
    "true_bias = 1.8\n",
    "\n",
    "features = torch.randn(1000, 2, dtype=torch.float32)\n",
    "labels = torch.mm(features, torch.tensor(true_weight, dtype=torch.float32).view((2,1))) + true_bias \n",
    "labels += torch.tensor(np.random.normal(0, 0.01, size=labels.shape))\n",
    "features.shape, labels.shape"
   ]
  },
  {
   "cell_type": "code",
   "execution_count": 13,
   "metadata": {
    "ExecuteTime": {
     "end_time": "2019-11-17T09:20:51.306511Z",
     "start_time": "2019-11-17T09:20:51.300332Z"
    }
   },
   "outputs": [],
   "source": [
    "## 读取数据, 建立 batch_iter\n",
    "\n",
    "batch_size = 10\n",
    "data_set = torch.utils.data.TensorDataset(features, labels)\n",
    "data_iter = torch.utils.data.DataLoader(data_set, batch_size, shuffle=True)"
   ]
  },
  {
   "cell_type": "code",
   "execution_count": 14,
   "metadata": {
    "ExecuteTime": {
     "end_time": "2019-11-17T09:20:53.433792Z",
     "start_time": "2019-11-17T09:20:53.420448Z"
    }
   },
   "outputs": [
    {
     "name": "stdout",
     "output_type": "stream",
     "text": [
      "[tensor([[ 1.1869, -0.5061],\n",
      "        [ 0.4479, -0.0674],\n",
      "        [-1.0441, -1.4648],\n",
      "        [ 0.0963, -2.2801],\n",
      "        [ 1.2756, -0.0245],\n",
      "        [ 1.2829,  0.7128],\n",
      "        [-1.7993, -0.5984],\n",
      "        [-1.2330, -0.6051],\n",
      "        [-0.7260,  0.4892],\n",
      "        [ 1.9187,  0.7435]]), tensor([[ 5.6872],\n",
      "        [ 2.8952],\n",
      "        [ 4.1180],\n",
      "        [ 8.8535],\n",
      "        [ 4.4545],\n",
      "        [ 2.2320],\n",
      "        [-0.0106],\n",
      "        [ 1.1580],\n",
      "        [-1.1433],\n",
      "        [ 3.4040]])]\n"
     ]
    }
   ],
   "source": [
    "for i in data_iter:\n",
    "    print(i)\n",
    "    break"
   ]
  },
  {
   "cell_type": "code",
   "execution_count": 37,
   "metadata": {
    "ExecuteTime": {
     "end_time": "2019-11-17T09:32:28.399001Z",
     "start_time": "2019-11-17T09:32:28.384479Z"
    }
   },
   "outputs": [
    {
     "name": "stdout",
     "output_type": "stream",
     "text": [
      "LinearNet(\n",
      "  (linear): Linear(in_features=2, out_features=1, bias=True)\n",
      ")\n"
     ]
    }
   ],
   "source": [
    "w = torch.tensor(np.random.normal(0, 0.1, size=(2,1)), dtype=torch.float32, requires_grad=True)\n",
    "b = torch.zeros(1, dtype=torch.float32, requires_grad=True)\n",
    "\n",
    "class LinearNet(torch.nn.Module):\n",
    "    def __init__(self):\n",
    "        super(LinearNet, self).__init__()\n",
    "        self.linear = torch.nn.Linear(in_features=2, out_features=1, bias=True)\n",
    "        torch.nn.init.normal_(self.linear.weight, 0., 0.1)\n",
    "        torch.nn.init.constant_(self.linear.bias, 0.)\n",
    "    \n",
    "    def forward(self, x):\n",
    "        return self.linear(x)\n",
    "\n",
    "net = LinearNet()\n",
    "print(net)"
   ]
  },
  {
   "cell_type": "code",
   "execution_count": 20,
   "metadata": {
    "ExecuteTime": {
     "end_time": "2019-11-17T09:25:17.359895Z",
     "start_time": "2019-11-17T09:25:17.354474Z"
    }
   },
   "outputs": [],
   "source": [
    "#torch.nn.Module??"
   ]
  },
  {
   "cell_type": "code",
   "execution_count": 39,
   "metadata": {
    "ExecuteTime": {
     "end_time": "2019-11-17T09:34:06.411125Z",
     "start_time": "2019-11-17T09:34:06.398330Z"
    }
   },
   "outputs": [
    {
     "name": "stdout",
     "output_type": "stream",
     "text": [
      "Parameter containing:\n",
      "tensor([[-0.0897, -0.1434]], requires_grad=True)\n",
      "Parameter containing:\n",
      "tensor([0.], requires_grad=True)\n"
     ]
    },
    {
     "data": {
      "text/plain": [
       "Parameter containing:\n",
       "tensor([0.], requires_grad=True)"
      ]
     },
     "execution_count": 39,
     "metadata": {},
     "output_type": "execute_result"
    }
   ],
   "source": [
    "## 查看参数\n",
    "for param in net.parameters():\n",
    "    print(param)\n",
    "    \n",
    "## 初始化参数\n",
    "# torch.nn.init.normal_(net.linear.weight, 0., 0.1)\n",
    "# torch.nn.init.constant_(net.linear.bias, 0.)"
   ]
  },
  {
   "cell_type": "code",
   "execution_count": 44,
   "metadata": {
    "ExecuteTime": {
     "end_time": "2019-11-17T09:35:04.658605Z",
     "start_time": "2019-11-17T09:35:04.649932Z"
    }
   },
   "outputs": [
    {
     "name": "stdout",
     "output_type": "stream",
     "text": [
      "MSELoss()\n",
      "SGD (\n",
      "Parameter Group 0\n",
      "    dampening: 0\n",
      "    lr: 0.03\n",
      "    momentum: 0\n",
      "    nesterov: False\n",
      "    weight_decay: 0\n",
      ")\n"
     ]
    }
   ],
   "source": [
    "loss = torch.nn.MSELoss()\n",
    "print(loss)\n",
    "\n",
    "optimizer = torch.optim.SGD(net.parameters(), lr=0.03)\n",
    "print(optimizer)\n",
    "\n",
    "# optimizer =optim.SGD([\n",
    "#     # 如果对某个参数不指定学习率，就使用最外层的默认学习率\n",
    "#     {'params': net.subnet1.parameters()}, # lr=0.03\n",
    "#     {'params': net.subnet2.parameters(), 'lr': 0.01}\n",
    "# ], lr=0.03)"
   ]
  },
  {
   "cell_type": "code",
   "execution_count": 49,
   "metadata": {
    "ExecuteTime": {
     "end_time": "2019-11-17T09:38:20.855279Z",
     "start_time": "2019-11-17T09:38:20.706587Z"
    }
   },
   "outputs": [
    {
     "name": "stdout",
     "output_type": "stream",
     "text": [
      "epoch 1, loss: 0.000035\n",
      "epoch 2, loss: 0.000101\n",
      "epoch 3, loss: 0.000181\n"
     ]
    }
   ],
   "source": [
    "num_epochs = 3\n",
    "for epoch in range(1, num_epochs + 1):\n",
    "    for X, y in data_iter:\n",
    "        output = net(X)\n",
    "        l = loss(output, y.view(output.shape))\n",
    "        l.backward()\n",
    "        optimizer.step()\n",
    "        optimizer.zero_grad() # 梯度清零，等价于net.zero_grad()\n",
    "    print('epoch %d, loss: %f' % (epoch, l.item()))"
   ]
  },
  {
   "cell_type": "code",
   "execution_count": 50,
   "metadata": {
    "ExecuteTime": {
     "end_time": "2019-11-17T09:38:21.847538Z",
     "start_time": "2019-11-17T09:38:21.840652Z"
    }
   },
   "outputs": [
    {
     "name": "stdout",
     "output_type": "stream",
     "text": [
      "[2, -3] Parameter containing:\n",
      "tensor([[ 2.0008, -3.0005]], requires_grad=True)\n",
      "1.8 Parameter containing:\n",
      "tensor([1.7998], requires_grad=True)\n"
     ]
    }
   ],
   "source": [
    "print(true_weight, net.linear.weight)\n",
    "print(true_bias, net.linear.bias)"
   ]
  },
  {
   "cell_type": "code",
   "execution_count": null,
   "metadata": {},
   "outputs": [],
   "source": []
  }
 ],
 "metadata": {
  "kernelspec": {
   "display_name": "Python 3",
   "language": "python",
   "name": "python3"
  },
  "language_info": {
   "codemirror_mode": {
    "name": "ipython",
    "version": 3
   },
   "file_extension": ".py",
   "mimetype": "text/x-python",
   "name": "python",
   "nbconvert_exporter": "python",
   "pygments_lexer": "ipython3",
   "version": "3.7.5"
  },
  "toc": {
   "base_numbering": 1,
   "nav_menu": {},
   "number_sections": true,
   "sideBar": true,
   "skip_h1_title": false,
   "title_cell": "Table of Contents",
   "title_sidebar": "Contents",
   "toc_cell": false,
   "toc_position": {},
   "toc_section_display": true,
   "toc_window_display": false
  }
 },
 "nbformat": 4,
 "nbformat_minor": 2
}

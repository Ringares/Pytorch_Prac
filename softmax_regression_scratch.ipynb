{
 "cells": [
  {
   "cell_type": "code",
   "execution_count": 11,
   "metadata": {
    "ExecuteTime": {
     "end_time": "2019-11-18T10:37:44.562952Z",
     "start_time": "2019-11-18T10:37:44.556302Z"
    }
   },
   "outputs": [],
   "source": [
    "%matplotlib inline\n",
    "import torch\n",
    "import torchvision\n",
    "from IPython import display\n",
    "from matplotlib import pyplot as plt\n",
    "import numpy as np\n",
    "import random"
   ]
  },
  {
   "cell_type": "code",
   "execution_count": 12,
   "metadata": {
    "ExecuteTime": {
     "end_time": "2019-11-18T10:37:44.667719Z",
     "start_time": "2019-11-18T10:37:44.663965Z"
    }
   },
   "outputs": [],
   "source": [
    "def use_svg_display():\n",
    "    # 用矢量图显示\n",
    "    display.set_matplotlib_formats('svg')\n",
    "\n",
    "def set_figsize(figsize=(3.5, 2.5)):\n",
    "    use_svg_display()\n",
    "    # 设置图的尺寸\n",
    "    plt.rcParams['figure.figsize'] = figsize"
   ]
  },
  {
   "cell_type": "code",
   "execution_count": 15,
   "metadata": {
    "ExecuteTime": {
     "end_time": "2019-11-18T10:37:53.857458Z",
     "start_time": "2019-11-18T10:37:53.730321Z"
    }
   },
   "outputs": [
    {
     "name": "stdout",
     "output_type": "stream",
     "text": [
      "iris_test.csv     iris_training.csv\r\n"
     ]
    }
   ],
   "source": [
    "!ls ./data/iris"
   ]
  },
  {
   "cell_type": "code",
   "execution_count": 55,
   "metadata": {
    "ExecuteTime": {
     "end_time": "2019-11-18T11:05:49.134912Z",
     "start_time": "2019-11-18T11:05:49.128150Z"
    }
   },
   "outputs": [],
   "source": [
    "import pandas as pd\n",
    "class IrisDataSet(torch.utils.data.Dataset):\n",
    "    def __init__(self, csv_path, sep=','):\n",
    "        with open(csv_path, 'r') as f:\n",
    "            lines = f.readlines()[1:]\n",
    "            datas = [line.strip().split(sep) for line in lines]\n",
    "            datas = np.array(datas, dtype=np.float32)\n",
    "            self.featurs = torch.tensor(datas_np[:,:4], dtype=torch.float32)\n",
    "            self.labels = torch.tensor(datas_np[:,-1], dtype=torch.float32)\n",
    "    \n",
    "    def __len__(self):\n",
    "        return len(self.featurs)\n",
    "    \n",
    "    def __getitem__(self, index):\n",
    "        return self.featurs[index], self.labels[index]\n",
    "    "
   ]
  },
  {
   "cell_type": "code",
   "execution_count": 61,
   "metadata": {
    "ExecuteTime": {
     "end_time": "2019-11-18T11:09:01.742155Z",
     "start_time": "2019-11-18T11:09:01.734594Z"
    }
   },
   "outputs": [
    {
     "name": "stdout",
     "output_type": "stream",
     "text": [
      "120 120\n"
     ]
    }
   ],
   "source": [
    "train_csv_path = './data/iris/iris_training.csv'\n",
    "train_data_set = IrisDataSet(train_csv_path)\n",
    "train_data_iter = torch.utils.data.DataLoader(train_data_set, batch_size=32, shuffle=True)\n",
    "\n",
    "test_csv_path = './data/iris/iris_test.csv'\n",
    "test_data_set = IrisDataSet(test_csv_path)\n",
    "test_data_iter = torch.utils.data.DataLoader(test_data_set, batch_size=32)\n",
    "\n",
    "print(len(train_data_set), len(test_data_set))"
   ]
  },
  {
   "cell_type": "code",
   "execution_count": 79,
   "metadata": {
    "ExecuteTime": {
     "end_time": "2019-11-18T12:00:23.004281Z",
     "start_time": "2019-11-18T12:00:22.995968Z"
    }
   },
   "outputs": [
    {
     "data": {
      "text/plain": [
       "(tensor([[-1.1504,  1.4084,  0.3405],\n",
       "         [-0.4739,  0.7614, -0.9388],\n",
       "         [-1.8759, -0.6740, -0.0252],\n",
       "         [ 1.0006, -0.8527,  0.3821]], requires_grad=True), tensor([[0.],\n",
       "         [0.],\n",
       "         [0.],\n",
       "         [0.]], requires_grad=True))"
      ]
     },
     "execution_count": 79,
     "metadata": {},
     "output_type": "execute_result"
    }
   ],
   "source": [
    "w = torch.randn((4,3), dtype=torch.float32)\n",
    "b = torch.zeros((4,1), dtype=torch.float32)\n",
    "\n",
    "w.requires_grad_(True)\n",
    "b.requires_grad_(True)\n",
    "\n",
    "w, b"
   ]
  },
  {
   "cell_type": "code",
   "execution_count": 100,
   "metadata": {
    "ExecuteTime": {
     "end_time": "2019-11-18T12:04:04.556523Z",
     "start_time": "2019-11-18T12:04:04.550596Z"
    }
   },
   "outputs": [],
   "source": [
    "def softmax(x):\n",
    "    return x.exp() / x.exp().sum(dim=1, keepdim=True)"
   ]
  },
  {
   "cell_type": "code",
   "execution_count": 80,
   "metadata": {
    "ExecuteTime": {
     "end_time": "2019-11-18T12:00:23.449790Z",
     "start_time": "2019-11-18T12:00:23.442753Z"
    }
   },
   "outputs": [],
   "source": [
    "def linear_reg(x):\n",
    "    return torch.mm(x, w) + b\n",
    "\n",
    "def cross_entropy(y, y_hat):\n",
    "    return \n",
    "\n",
    "def sgd(params, lr, bs):\n",
    "    for param in params:\n",
    "        param.data -= param.grad / bs * lr\n",
    "        \n",
    "def net(x):\n",
    "    return softmax(linear_reg(x))\n",
    "    "
   ]
  },
  {
   "cell_type": "code",
   "execution_count": 97,
   "metadata": {
    "ExecuteTime": {
     "end_time": "2019-11-18T12:03:12.444703Z",
     "start_time": "2019-11-18T12:03:12.438953Z"
    }
   },
   "outputs": [
    {
     "data": {
      "text/plain": [
       "tensor([[1., 2.],\n",
       "        [2., 5.]])"
      ]
     },
     "execution_count": 97,
     "metadata": {},
     "output_type": "execute_result"
    }
   ],
   "source": [
    "x = torch.tensor([[1.,2.], [2.,5.]])\n",
    "x"
   ]
  },
  {
   "cell_type": "code",
   "execution_count": 98,
   "metadata": {
    "ExecuteTime": {
     "end_time": "2019-11-18T12:03:12.597086Z",
     "start_time": "2019-11-18T12:03:12.590456Z"
    }
   },
   "outputs": [
    {
     "data": {
      "text/plain": [
       "(tensor([[  2.7183,   7.3891],\n",
       "         [  7.3891, 148.4132]]), tensor([[ 10.1073],\n",
       "         [155.8022]]))"
      ]
     },
     "execution_count": 98,
     "metadata": {},
     "output_type": "execute_result"
    }
   ],
   "source": [
    "x.exp(), x.exp().sum(dim=1, keepdim=True)"
   ]
  },
  {
   "cell_type": "code",
   "execution_count": 99,
   "metadata": {
    "ExecuteTime": {
     "end_time": "2019-11-18T12:03:12.775513Z",
     "start_time": "2019-11-18T12:03:12.768064Z"
    }
   },
   "outputs": [
    {
     "data": {
      "text/plain": [
       "tensor([[0.2689, 0.7311],\n",
       "        [0.0474, 0.9526]])"
      ]
     },
     "execution_count": 99,
     "metadata": {},
     "output_type": "execute_result"
    }
   ],
   "source": [
    "x.exp() / x.exp().sum(dim=1, keepdim=True)"
   ]
  },
  {
   "cell_type": "code",
   "execution_count": 95,
   "metadata": {
    "ExecuteTime": {
     "end_time": "2019-11-18T12:02:56.927439Z",
     "start_time": "2019-11-18T12:02:56.921734Z"
    }
   },
   "outputs": [
    {
     "data": {
      "text/plain": [
       "tensor([[2.7183e+00, 7.3891e+00],\n",
       "        [7.3891e+00, 2.2026e+04]])"
      ]
     },
     "execution_count": 95,
     "metadata": {},
     "output_type": "execute_result"
    }
   ],
   "source": [
    "x.exp()"
   ]
  },
  {
   "cell_type": "code",
   "execution_count": 96,
   "metadata": {
    "ExecuteTime": {
     "end_time": "2019-11-18T12:02:57.295329Z",
     "start_time": "2019-11-18T12:02:57.289156Z"
    }
   },
   "outputs": [
    {
     "data": {
      "text/plain": [
       "tensor([[1.0107e+01],\n",
       "        [2.2034e+04]])"
      ]
     },
     "execution_count": 96,
     "metadata": {},
     "output_type": "execute_result"
    }
   ],
   "source": [
    "x.exp().sum(dim=1, keepdim=True)"
   ]
  },
  {
   "cell_type": "code",
   "execution_count": null,
   "metadata": {},
   "outputs": [],
   "source": []
  }
 ],
 "metadata": {
  "kernelspec": {
   "display_name": "Python 3",
   "language": "python",
   "name": "python3"
  },
  "language_info": {
   "codemirror_mode": {
    "name": "ipython",
    "version": 3
   },
   "file_extension": ".py",
   "mimetype": "text/x-python",
   "name": "python",
   "nbconvert_exporter": "python",
   "pygments_lexer": "ipython3",
   "version": "3.6.9"
  },
  "toc": {
   "base_numbering": 1,
   "nav_menu": {},
   "number_sections": true,
   "sideBar": true,
   "skip_h1_title": false,
   "title_cell": "Table of Contents",
   "title_sidebar": "Contents",
   "toc_cell": false,
   "toc_position": {},
   "toc_section_display": true,
   "toc_window_display": false
  }
 },
 "nbformat": 4,
 "nbformat_minor": 2
}

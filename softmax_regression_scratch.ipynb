{
 "cells": [
  {
   "cell_type": "code",
   "execution_count": 10,
   "metadata": {
    "ExecuteTime": {
     "end_time": "2019-11-18T14:53:56.834695Z",
     "start_time": "2019-11-18T14:53:56.827828Z"
    }
   },
   "outputs": [],
   "source": [
    "%matplotlib inline\n",
    "import torch\n",
    "import torchvision\n",
    "from IPython import display\n",
    "from matplotlib import pyplot as plt\n",
    "import numpy as np\n",
    "import random"
   ]
  },
  {
   "cell_type": "code",
   "execution_count": 11,
   "metadata": {
    "ExecuteTime": {
     "end_time": "2019-11-18T14:53:57.006861Z",
     "start_time": "2019-11-18T14:53:57.002071Z"
    }
   },
   "outputs": [],
   "source": [
    "def use_svg_display():\n",
    "    # 用矢量图显示\n",
    "    display.set_matplotlib_formats('svg')\n",
    "\n",
    "def set_figsize(figsize=(3.5, 2.5)):\n",
    "    use_svg_display()\n",
    "    # 设置图的尺寸\n",
    "    plt.rcParams['figure.figsize'] = figsize"
   ]
  },
  {
   "cell_type": "code",
   "execution_count": 12,
   "metadata": {
    "ExecuteTime": {
     "end_time": "2019-11-18T14:53:57.311646Z",
     "start_time": "2019-11-18T14:53:57.179210Z"
    }
   },
   "outputs": [
    {
     "name": "stdout",
     "output_type": "stream",
     "text": [
      "iris_test.csv     iris_training.csv\r\n"
     ]
    }
   ],
   "source": [
    "!ls ./data/iris"
   ]
  },
  {
   "cell_type": "code",
   "execution_count": 13,
   "metadata": {
    "ExecuteTime": {
     "end_time": "2019-11-18T14:53:57.323843Z",
     "start_time": "2019-11-18T14:53:57.314613Z"
    }
   },
   "outputs": [],
   "source": [
    "class IrisDataSet(torch.utils.data.Dataset):\n",
    "    def __init__(self, csv_path, sep=','):\n",
    "        with open(csv_path, 'r') as f:\n",
    "            lines = f.readlines()[1:]\n",
    "            datas = [line.strip().split(sep) for line in lines]\n",
    "            datas_np = np.array(datas, dtype=np.float32)\n",
    "            self.featurs = torch.tensor(datas_np[:,:4], dtype=torch.float32)\n",
    "            self.labels = torch.tensor(datas_np[:,-1], dtype=torch.float32)\n",
    "    \n",
    "    def __len__(self):\n",
    "        return len(self.featurs)\n",
    "    \n",
    "    def __getitem__(self, index):\n",
    "        return self.featurs[index], self.labels[index]\n",
    "    "
   ]
  },
  {
   "cell_type": "code",
   "execution_count": 14,
   "metadata": {
    "ExecuteTime": {
     "end_time": "2019-11-18T14:53:57.429088Z",
     "start_time": "2019-11-18T14:53:57.420445Z"
    }
   },
   "outputs": [
    {
     "name": "stdout",
     "output_type": "stream",
     "text": [
      "120 30\n"
     ]
    }
   ],
   "source": [
    "batch_size = 32\n",
    "train_csv_path = './data/iris/iris_training.csv'\n",
    "train_data_set = IrisDataSet(train_csv_path)\n",
    "train_data_iter = torch.utils.data.DataLoader(train_data_set, batch_size=batch_size, shuffle=True)\n",
    "\n",
    "test_csv_path = './data/iris/iris_test.csv'\n",
    "test_data_set = IrisDataSet(test_csv_path)\n",
    "test_data_iter = torch.utils.data.DataLoader(test_data_set, batch_size=batch_size)\n",
    "\n",
    "print(len(train_data_set), len(test_data_set))"
   ]
  },
  {
   "cell_type": "code",
   "execution_count": 15,
   "metadata": {
    "ExecuteTime": {
     "end_time": "2019-11-18T14:53:57.540534Z",
     "start_time": "2019-11-18T14:53:57.531702Z"
    }
   },
   "outputs": [
    {
     "data": {
      "text/plain": [
       "(tensor([[ 2.2572,  0.2277, -0.0742],\n",
       "         [ 0.5927, -0.8022, -0.1140],\n",
       "         [-0.0041,  0.6776,  0.4867],\n",
       "         [-0.1093,  1.0666,  0.4089]], requires_grad=True),\n",
       " tensor([[0., 0., 0.]], requires_grad=True))"
      ]
     },
     "execution_count": 15,
     "metadata": {},
     "output_type": "execute_result"
    }
   ],
   "source": [
    "w = torch.randn((4,3), dtype=torch.float32)\n",
    "b = torch.zeros((1,3), dtype=torch.float32)\n",
    "\n",
    "w.requires_grad_(True)\n",
    "b.requires_grad_(True)\n",
    "\n",
    "w, b"
   ]
  },
  {
   "cell_type": "code",
   "execution_count": 37,
   "metadata": {
    "ExecuteTime": {
     "end_time": "2019-11-18T14:58:47.252249Z",
     "start_time": "2019-11-18T14:58:47.247177Z"
    }
   },
   "outputs": [],
   "source": [
    "def softmax(x):\n",
    "    x = x - x.max(dim=1, keepdim=True).values\n",
    "    return x.exp() / x.exp().sum(dim=1, keepdim=True)"
   ]
  },
  {
   "cell_type": "code",
   "execution_count": 42,
   "metadata": {
    "ExecuteTime": {
     "end_time": "2019-11-18T14:59:40.398596Z",
     "start_time": "2019-11-18T14:59:40.387910Z"
    }
   },
   "outputs": [],
   "source": [
    "def cross_entropy_loss(y, y_hat):\n",
    "    \"\"\"\n",
    "    y=[0,1,2]\n",
    "    y_hat = [\n",
    "        [0.7,0.2,0.1],\n",
    "        [0.2,0.5,0.3],\n",
    "        [0.1,0.1,0.8],\n",
    "    ]\n",
    "    \"\"\"\n",
    "    y_hat = softmax(y_hat)\n",
    "    return -torch.log(\n",
    "        y_hat.gather(dim=1, index=y.type(torch.long).view(-1,1))+1e-5\n",
    "    ).sum()\n",
    "\n",
    "def sgd(params, lr, bs):\n",
    "    for param in params:\n",
    "        param.data -= param.grad / bs * lr\n",
    "        \n",
    "def net(x):\n",
    "    return torch.mm(x, w) + b\n",
    "        \n",
    "def accuracy(y_hat, y):\n",
    "    return (y_hat.argmax(dim=1) == y).float().mean().item()\n",
    "\n",
    "def evaluate_accuracy(data_iter, net):\n",
    "    acc_sum, n = 0.0, 0\n",
    "    for X, y in data_iter:\n",
    "        acc_sum += (net(X).argmax(dim=1) == y).float().sum().item()\n",
    "        n += y.shape[0]\n",
    "    return acc_sum / n"
   ]
  },
  {
   "cell_type": "code",
   "execution_count": 43,
   "metadata": {
    "ExecuteTime": {
     "end_time": "2019-11-18T14:59:40.967992Z",
     "start_time": "2019-11-18T14:59:40.858670Z"
    }
   },
   "outputs": [
    {
     "name": "stdout",
     "output_type": "stream",
     "text": [
      "epoch 1 loss 0.2360 train_acc 0.9333 test_acc 0.8667\n",
      "epoch 2 loss 0.1774 train_acc 0.9250 test_acc 0.9667\n",
      "epoch 3 loss 0.1892 train_acc 0.9583 test_acc 0.9333\n",
      "epoch 4 loss 0.1751 train_acc 0.9500 test_acc 0.9667\n",
      "epoch 5 loss 0.2021 train_acc 0.9333 test_acc 0.9667\n",
      "epoch 6 loss 0.1870 train_acc 0.9500 test_acc 0.9667\n",
      "epoch 7 loss 0.1890 train_acc 0.9500 test_acc 0.9333\n",
      "epoch 8 loss 0.1728 train_acc 0.9750 test_acc 0.9667\n",
      "epoch 9 loss 0.2075 train_acc 0.9417 test_acc 1.0000\n",
      "epoch 10 loss 0.1977 train_acc 0.9250 test_acc 0.9667\n",
      "epoch 11 loss 0.1840 train_acc 0.9500 test_acc 0.9667\n",
      "epoch 12 loss 0.1886 train_acc 0.9583 test_acc 0.9333\n",
      "epoch 13 loss 0.1722 train_acc 0.9750 test_acc 1.0000\n",
      "epoch 14 loss 0.1749 train_acc 0.9583 test_acc 0.9333\n",
      "epoch 15 loss 0.1765 train_acc 0.9667 test_acc 1.0000\n",
      "epoch 16 loss 0.1686 train_acc 0.9750 test_acc 0.9333\n",
      "epoch 17 loss 0.1724 train_acc 0.9750 test_acc 0.9333\n",
      "epoch 18 loss 0.1698 train_acc 0.9750 test_acc 0.9667\n",
      "epoch 19 loss 0.1663 train_acc 0.9750 test_acc 0.9333\n",
      "epoch 20 loss 0.1662 train_acc 0.9750 test_acc 1.0000\n"
     ]
    }
   ],
   "source": [
    "lr = 0.1\n",
    "num_epochs = 20\n",
    "params = [w, b]\n",
    "loss = cross_entropy_loss\n",
    "for epoch in range(1, num_epochs+1):\n",
    "    train_l_sum, train_acc_sum, n = 0.0, 0.0, 0\n",
    "    for x, y in train_data_iter:\n",
    "        for param in params:\n",
    "            if param.grad is not None:\n",
    "                param.grad.data.zero_()\n",
    "        y_hat = net(x)\n",
    "        l = cross_entropy(y, y_hat)\n",
    "        l.backward()\n",
    "        sgd(params, lr, batch_size)\n",
    "        \n",
    "        train_l_sum += l.item()\n",
    "        train_acc_sum += (y_hat.argmax(dim=1)==y).float().sum().item()\n",
    "        n += y.shape[0]\n",
    "    print('epoch %d loss %.4f train_acc %.4f test_acc %.4f' %\n",
    "          (epoch, train_l_sum/n, train_acc_sum/n, evaluate_accuracy(test_data_iter, net)))\n",
    "        "
   ]
  },
  {
   "cell_type": "code",
   "execution_count": null,
   "metadata": {},
   "outputs": [],
   "source": []
  },
  {
   "cell_type": "code",
   "execution_count": null,
   "metadata": {},
   "outputs": [],
   "source": []
  }
 ],
 "metadata": {
  "kernelspec": {
   "display_name": "Python 3",
   "language": "python",
   "name": "python3"
  },
  "language_info": {
   "codemirror_mode": {
    "name": "ipython",
    "version": 3
   },
   "file_extension": ".py",
   "mimetype": "text/x-python",
   "name": "python",
   "nbconvert_exporter": "python",
   "pygments_lexer": "ipython3",
   "version": "3.7.5"
  },
  "toc": {
   "base_numbering": 1,
   "nav_menu": {},
   "number_sections": true,
   "sideBar": true,
   "skip_h1_title": false,
   "title_cell": "Table of Contents",
   "title_sidebar": "Contents",
   "toc_cell": false,
   "toc_position": {},
   "toc_section_display": true,
   "toc_window_display": false
  }
 },
 "nbformat": 4,
 "nbformat_minor": 2
}

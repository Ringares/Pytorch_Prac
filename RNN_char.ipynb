{
 "cells": [
  {
   "cell_type": "code",
   "execution_count": 1,
   "metadata": {
    "ExecuteTime": {
     "end_time": "2019-11-20T08:38:31.426955Z",
     "start_time": "2019-11-20T08:38:30.248357Z"
    }
   },
   "outputs": [],
   "source": [
    "%matplotlib inline\n",
    "import torch\n",
    "import torchvision\n",
    "from IPython import display\n",
    "from matplotlib import pyplot as plt\n",
    "import numpy as np\n",
    "import random"
   ]
  },
  {
   "cell_type": "code",
   "execution_count": 53,
   "metadata": {
    "ExecuteTime": {
     "end_time": "2019-11-21T14:09:38.922036Z",
     "start_time": "2019-11-21T14:09:38.912878Z"
    }
   },
   "outputs": [
    {
     "data": {
      "text/plain": [
       "device(type='cpu')"
      ]
     },
     "execution_count": 53,
     "metadata": {},
     "output_type": "execute_result"
    }
   ],
   "source": [
    "device = torch.device('cuda' if torch.cuda.is_available() else 'cpu')\n",
    "device"
   ]
  },
  {
   "cell_type": "code",
   "execution_count": 15,
   "metadata": {
    "ExecuteTime": {
     "end_time": "2019-11-20T09:02:15.436674Z",
     "start_time": "2019-11-20T09:02:15.430717Z"
    }
   },
   "outputs": [],
   "source": [
    "with open('./data/jaychou_lyrics.txt', 'r') as f:\n",
    "    corpus = f.read()\n",
    "    corpus = corpus.replace('\\n', ' ').replace('\\u3000', ' ')"
   ]
  },
  {
   "cell_type": "code",
   "execution_count": 23,
   "metadata": {
    "ExecuteTime": {
     "end_time": "2019-11-20T09:05:25.372793Z",
     "start_time": "2019-11-20T09:05:25.366966Z"
    }
   },
   "outputs": [
    {
     "data": {
      "text/plain": [
       "1027"
      ]
     },
     "execution_count": 23,
     "metadata": {},
     "output_type": "execute_result"
    }
   ],
   "source": [
    "corpus = corpus[:10000]\n",
    "idx_to_char = list(set(corpus))\n",
    "len(idx_to_char)"
   ]
  },
  {
   "cell_type": "code",
   "execution_count": 24,
   "metadata": {
    "ExecuteTime": {
     "end_time": "2019-11-20T09:05:30.460108Z",
     "start_time": "2019-11-20T09:05:30.456685Z"
    }
   },
   "outputs": [],
   "source": [
    "char_to_idx = {i:c for i, c in enumerate(idx_to_char)}"
   ]
  },
  {
   "cell_type": "markdown",
   "metadata": {
    "ExecuteTime": {
     "end_time": "2019-11-20T10:03:22.253211Z",
     "start_time": "2019-11-20T10:03:22.238437Z"
    }
   },
   "source": [
    "### 时序数据的采样\n",
    "\n",
    "不同的采样方式, 在训练实现上会略有不同"
   ]
  },
  {
   "cell_type": "code",
   "execution_count": 54,
   "metadata": {
    "ExecuteTime": {
     "end_time": "2019-11-21T14:10:17.686802Z",
     "start_time": "2019-11-21T14:10:17.679299Z"
    }
   },
   "outputs": [],
   "source": [
    "# 随机采样 每次采样前都需要重新初始化隐藏状态\n",
    "def data_iter_random(corpus_indices, batch_size, window, device):\n",
    "    num_example = (len(corpus_indices)-1) // window\n",
    "    batch_num = num_example // batch_size\n",
    "    \n",
    "    example_indices = list(range(num_example))\n",
    "    random.shuffle(example_indices)\n",
    "    \n",
    "    for i in range(batch_num):\n",
    "        batch_indices = example_indices[i*batch_size: (i+1)*batch_size]\n",
    "        train_example = [corpus_indices[j*window: (j+1)*window] for j in batch_indices]\n",
    "        test_example = [corpus_indices[j*window+1: (j+1)*window+1] for j in batch_indices]\n",
    "        yield torch.tensor(train_example, dtype=torch.float32, device=device), torch.tensor(test_example, dtype=torch.float32, device=device)"
   ]
  },
  {
   "cell_type": "code",
   "execution_count": 56,
   "metadata": {
    "ExecuteTime": {
     "end_time": "2019-11-21T14:10:28.974379Z",
     "start_time": "2019-11-21T14:10:28.963578Z"
    }
   },
   "outputs": [
    {
     "name": "stdout",
     "output_type": "stream",
     "text": [
      "[0, 1, 2, 3, 4, 5, 6, 7, 8, 9, 10, 11, 12, 13, 14, 15, 16, 17, 18, 19, 20, 21, 22, 23, 24, 25, 26, 27, 28, 29]\n",
      "X:  tensor([[12., 13., 14., 15., 16., 17.],\n",
      "        [ 0.,  1.,  2.,  3.,  4.,  5.]]) \n",
      "Y: tensor([[13., 14., 15., 16., 17., 18.],\n",
      "        [ 1.,  2.,  3.,  4.,  5.,  6.]]) \n",
      "\n",
      "X:  tensor([[18., 19., 20., 21., 22., 23.],\n",
      "        [ 6.,  7.,  8.,  9., 10., 11.]]) \n",
      "Y: tensor([[19., 20., 21., 22., 23., 24.],\n",
      "        [ 7.,  8.,  9., 10., 11., 12.]]) \n",
      "\n"
     ]
    }
   ],
   "source": [
    "my_seq = list(range(30))\n",
    "print(my_seq)\n",
    "for X, Y in data_iter_random(my_seq, batch_size=2, window=6, device=device):\n",
    "    print('X: ', X, '\\nY:', Y, '\\n')"
   ]
  },
  {
   "cell_type": "code",
   "execution_count": 59,
   "metadata": {
    "ExecuteTime": {
     "end_time": "2019-11-21T14:10:46.992585Z",
     "start_time": "2019-11-21T14:10:46.986751Z"
    }
   },
   "outputs": [],
   "source": [
    "# 相邻采样\n",
    "def data_iter_consecutive(corpus_indices, batch_size, window, device):\n",
    "    batch_len = len(corpus_indices) // batch_size\n",
    "    corpus_indices = torch.tensor(corpus_indices, dtype=torch.float32, device=device)\n",
    "    corpus_indices = corpus_indices[0:batch_len*batch_size]\n",
    "    corpus_indices = corpus_indices.view(batch_size, batch_len)\n",
    "    \n",
    "    batch_num = (batch_len-1)//window\n",
    "    for i in range(batch_num):\n",
    "        train_example = corpus_indices[:,i*window:(i+1)*window]\n",
    "        test_example = corpus_indices[:,i*window+1:(i+1)*window+1]\n",
    "        yield train_example, test_example\n",
    "    "
   ]
  },
  {
   "cell_type": "code",
   "execution_count": 60,
   "metadata": {
    "ExecuteTime": {
     "end_time": "2019-11-21T14:10:47.413068Z",
     "start_time": "2019-11-21T14:10:47.400289Z"
    }
   },
   "outputs": [
    {
     "name": "stdout",
     "output_type": "stream",
     "text": [
      "[0, 1, 2, 3, 4, 5, 6, 7, 8, 9, 10, 11, 12, 13, 14, 15, 16, 17, 18, 19, 20, 21, 22, 23, 24, 25, 26, 27, 28, 29]\n",
      "X:  tensor([[ 0.,  1.,  2.,  3.,  4.,  5.],\n",
      "        [15., 16., 17., 18., 19., 20.]]) \n",
      "Y: tensor([[ 1.,  2.,  3.,  4.,  5.,  6.],\n",
      "        [16., 17., 18., 19., 20., 21.]]) \n",
      "\n",
      "X:  tensor([[ 6.,  7.,  8.,  9., 10., 11.],\n",
      "        [21., 22., 23., 24., 25., 26.]]) \n",
      "Y: tensor([[ 7.,  8.,  9., 10., 11., 12.],\n",
      "        [22., 23., 24., 25., 26., 27.]]) \n",
      "\n"
     ]
    }
   ],
   "source": [
    "my_seq = list(range(30))\n",
    "print(my_seq)\n",
    "for X, Y in data_iter_consecutive(my_seq, batch_size=2, window=6, device=device):\n",
    "    print('X: ', X, '\\nY:', Y, '\\n')"
   ]
  },
  {
   "cell_type": "code",
   "execution_count": 71,
   "metadata": {
    "ExecuteTime": {
     "end_time": "2019-11-21T14:53:29.794830Z",
     "start_time": "2019-11-21T14:53:29.787400Z"
    }
   },
   "outputs": [],
   "source": [
    "def one_hot(x, n_class, dtype=torch.float32):\n",
    "    x = x.long()\n",
    "    res = torch.zeros(x.shape[0], n_class, dtype=dtype, device=x.device)\n",
    "    res.scatter_(1, x.view(-1,1), 1)\n",
    "    return res"
   ]
  },
  {
   "cell_type": "code",
   "execution_count": 73,
   "metadata": {
    "ExecuteTime": {
     "end_time": "2019-11-21T14:53:39.405152Z",
     "start_time": "2019-11-21T14:53:39.397570Z"
    }
   },
   "outputs": [
    {
     "data": {
      "text/plain": [
       "tensor([[0., 1., 0.],\n",
       "        [0., 0., 1.]])"
      ]
     },
     "execution_count": 73,
     "metadata": {},
     "output_type": "execute_result"
    }
   ],
   "source": [
    "x = torch.tensor([1.,2.])\n",
    "one_hot(x, 3)"
   ]
  },
  {
   "cell_type": "code",
   "execution_count": 79,
   "metadata": {
    "ExecuteTime": {
     "end_time": "2019-11-21T14:56:52.377555Z",
     "start_time": "2019-11-21T14:56:52.366194Z"
    }
   },
   "outputs": [
    {
     "data": {
      "text/plain": [
       "tensor([[[0, 1, 0]],\n",
       "\n",
       "        [[0, 0, 1]]])"
      ]
     },
     "execution_count": 79,
     "metadata": {},
     "output_type": "execute_result"
    }
   ],
   "source": [
    "torch.nn.functional.one_hot(x.long().view(-1,1), 3)"
   ]
  },
  {
   "cell_type": "code",
   "execution_count": null,
   "metadata": {},
   "outputs": [],
   "source": []
  }
 ],
 "metadata": {
  "kernelspec": {
   "display_name": "Python 3",
   "language": "python",
   "name": "python3"
  },
  "language_info": {
   "codemirror_mode": {
    "name": "ipython",
    "version": 3
   },
   "file_extension": ".py",
   "mimetype": "text/x-python",
   "name": "python",
   "nbconvert_exporter": "python",
   "pygments_lexer": "ipython3",
   "version": "3.6.9"
  },
  "toc": {
   "base_numbering": 1,
   "nav_menu": {},
   "number_sections": true,
   "sideBar": true,
   "skip_h1_title": false,
   "title_cell": "Table of Contents",
   "title_sidebar": "Contents",
   "toc_cell": false,
   "toc_position": {},
   "toc_section_display": true,
   "toc_window_display": false
  }
 },
 "nbformat": 4,
 "nbformat_minor": 2
}

{
 "cells": [
  {
   "cell_type": "code",
   "execution_count": 1,
   "metadata": {
    "ExecuteTime": {
     "end_time": "2019-11-18T08:45:20.914790Z",
     "start_time": "2019-11-18T08:45:20.002111Z"
    }
   },
   "outputs": [],
   "source": [
    "%matplotlib inline\n",
    "import torch\n",
    "from IPython import display\n",
    "from matplotlib import pyplot as plt\n",
    "import numpy as np\n",
    "import random"
   ]
  },
  {
   "cell_type": "code",
   "execution_count": 2,
   "metadata": {
    "ExecuteTime": {
     "end_time": "2019-11-18T08:45:20.929265Z",
     "start_time": "2019-11-18T08:45:20.917207Z"
    }
   },
   "outputs": [
    {
     "data": {
      "text/plain": [
       "(torch.Size([1000, 2]), torch.Size([1000, 1]))"
      ]
     },
     "execution_count": 2,
     "metadata": {},
     "output_type": "execute_result"
    }
   ],
   "source": [
    "## 生成数据集\n",
    "true_weight = [2, -3]\n",
    "true_bias = 1.8\n",
    "\n",
    "features = torch.randn(1000, 2, dtype=torch.float32)\n",
    "labels = torch.mm(features, torch.tensor(true_weight, dtype=torch.float32).view((2,1))) + true_bias \n",
    "labels += torch.tensor(np.random.normal(0, 0.01, size=labels.shape))\n",
    "features.shape, labels.shape"
   ]
  },
  {
   "cell_type": "code",
   "execution_count": 3,
   "metadata": {
    "ExecuteTime": {
     "end_time": "2019-11-18T08:45:20.936691Z",
     "start_time": "2019-11-18T08:45:20.932801Z"
    }
   },
   "outputs": [],
   "source": [
    "## 读取数据, 建立 batch_iter\n",
    "\n",
    "batch_size = 10\n",
    "data_set = torch.utils.data.TensorDataset(features, labels)\n",
    "data_iter = torch.utils.data.DataLoader(data_set, batch_size, shuffle=True)"
   ]
  },
  {
   "cell_type": "code",
   "execution_count": 4,
   "metadata": {
    "ExecuteTime": {
     "end_time": "2019-11-18T08:45:20.949268Z",
     "start_time": "2019-11-18T08:45:20.940366Z"
    }
   },
   "outputs": [
    {
     "name": "stdout",
     "output_type": "stream",
     "text": [
      "[tensor([[-0.9908, -0.6345],\n",
      "        [ 0.2578, -2.0135],\n",
      "        [ 0.7863, -0.6099],\n",
      "        [ 0.2873,  2.3473],\n",
      "        [ 0.1547,  0.6940],\n",
      "        [-2.0706,  1.3718],\n",
      "        [-0.9905, -0.9074],\n",
      "        [-0.6247,  0.2997],\n",
      "        [ 0.8911, -0.2604],\n",
      "        [ 0.2079,  1.6563]]), tensor([[ 1.7171],\n",
      "        [ 8.3489],\n",
      "        [ 5.2116],\n",
      "        [-4.6605],\n",
      "        [ 0.0175],\n",
      "        [-6.4694],\n",
      "        [ 2.5425],\n",
      "        [-0.3490],\n",
      "        [ 4.3507],\n",
      "        [-2.7497]])]\n"
     ]
    }
   ],
   "source": [
    "for i in data_iter:\n",
    "    print(i)\n",
    "    break"
   ]
  },
  {
   "cell_type": "code",
   "execution_count": 5,
   "metadata": {
    "ExecuteTime": {
     "end_time": "2019-11-18T08:45:20.971510Z",
     "start_time": "2019-11-18T08:45:20.954007Z"
    }
   },
   "outputs": [
    {
     "name": "stdout",
     "output_type": "stream",
     "text": [
      "LinearNet(\n",
      "  (linear): Linear(in_features=2, out_features=1, bias=True)\n",
      ")\n"
     ]
    }
   ],
   "source": [
    "w = torch.tensor(np.random.normal(0, 0.1, size=(2,1)), dtype=torch.float32, requires_grad=True)\n",
    "b = torch.zeros(1, dtype=torch.float32, requires_grad=True)\n",
    "\n",
    "class LinearNet(torch.nn.Module):\n",
    "    def __init__(self):\n",
    "        super(LinearNet, self).__init__()\n",
    "        self.linear = torch.nn.Linear(in_features=2, out_features=1, bias=True)\n",
    "        torch.nn.init.normal_(self.linear.weight, 0., 0.1)\n",
    "        torch.nn.init.constant_(self.linear.bias, 0.)\n",
    "    \n",
    "    def forward(self, x):\n",
    "        return self.linear(x)\n",
    "\n",
    "net = LinearNet()\n",
    "print(net)"
   ]
  },
  {
   "cell_type": "code",
   "execution_count": 6,
   "metadata": {
    "ExecuteTime": {
     "end_time": "2019-11-18T08:45:20.976526Z",
     "start_time": "2019-11-18T08:45:20.973611Z"
    }
   },
   "outputs": [],
   "source": [
    "#torch.nn.Module??"
   ]
  },
  {
   "cell_type": "code",
   "execution_count": 7,
   "metadata": {
    "ExecuteTime": {
     "end_time": "2019-11-18T08:45:20.986909Z",
     "start_time": "2019-11-18T08:45:20.980195Z"
    }
   },
   "outputs": [
    {
     "name": "stdout",
     "output_type": "stream",
     "text": [
      "Parameter containing:\n",
      "tensor([[ 0.1654, -0.1335]], requires_grad=True)\n",
      "Parameter containing:\n",
      "tensor([0.], requires_grad=True)\n"
     ]
    }
   ],
   "source": [
    "## 查看参数\n",
    "for param in net.parameters():\n",
    "    print(param)\n",
    "    \n",
    "## 初始化参数\n",
    "# torch.nn.init.normal_(net.linear.weight, 0., 0.1)\n",
    "# torch.nn.init.constant_(net.linear.bias, 0.)"
   ]
  },
  {
   "cell_type": "code",
   "execution_count": 8,
   "metadata": {
    "ExecuteTime": {
     "end_time": "2019-11-18T08:45:21.001027Z",
     "start_time": "2019-11-18T08:45:20.995275Z"
    }
   },
   "outputs": [
    {
     "name": "stdout",
     "output_type": "stream",
     "text": [
      "MSELoss()\n",
      "SGD (\n",
      "Parameter Group 0\n",
      "    dampening: 0\n",
      "    lr: 0.03\n",
      "    momentum: 0\n",
      "    nesterov: False\n",
      "    weight_decay: 0\n",
      ")\n"
     ]
    }
   ],
   "source": [
    "loss = torch.nn.MSELoss()\n",
    "print(loss)\n",
    "\n",
    "optimizer = torch.optim.SGD(net.parameters(), lr=0.03, )\n",
    "print(optimizer)\n",
    "\n",
    "# optimizer =optim.SGD([\n",
    "#     # 如果对某个参数不指定学习率，就使用最外层的默认学习率\n",
    "#     {'params': net.subnet1.parameters()}, # lr=0.03\n",
    "#     {'params': net.subnet2.parameters(), 'lr': 0.01}\n",
    "# ], lr=0.03)"
   ]
  },
  {
   "cell_type": "code",
   "execution_count": 13,
   "metadata": {
    "ExecuteTime": {
     "end_time": "2019-11-18T08:46:55.963236Z",
     "start_time": "2019-11-18T08:46:55.840191Z"
    }
   },
   "outputs": [
    {
     "name": "stdout",
     "output_type": "stream",
     "text": [
      "epoch 1, loss: 0.000040\n",
      "epoch 2, loss: 0.000095\n",
      "epoch 3, loss: 0.000065\n"
     ]
    }
   ],
   "source": [
    "num_epochs = 3\n",
    "for epoch in range(1, num_epochs + 1):\n",
    "    for X, y in data_iter:\n",
    "        optimizer.zero_grad() # 梯度清零，等价于net.zero_grad()\n",
    "        output = net(X)\n",
    "        l = loss(output, y.view(output.shape))\n",
    "        l.backward()\n",
    "        optimizer.step()\n",
    "    print('epoch %d, loss: %f' % (epoch, l.item()))"
   ]
  },
  {
   "cell_type": "code",
   "execution_count": 14,
   "metadata": {
    "ExecuteTime": {
     "end_time": "2019-11-18T08:46:57.572756Z",
     "start_time": "2019-11-18T08:46:57.565751Z"
    }
   },
   "outputs": [
    {
     "name": "stdout",
     "output_type": "stream",
     "text": [
      "[2, -3] Parameter containing:\n",
      "tensor([[ 1.9998, -3.0002]], requires_grad=True)\n",
      "1.8 Parameter containing:\n",
      "tensor([1.7998], requires_grad=True)\n"
     ]
    }
   ],
   "source": [
    "print(true_weight, net.linear.weight)\n",
    "print(true_bias, net.linear.bias)"
   ]
  },
  {
   "cell_type": "markdown",
   "metadata": {},
   "source": [
    "**with regularization**"
   ]
  },
  {
   "cell_type": "code",
   "execution_count": 40,
   "metadata": {
    "ExecuteTime": {
     "end_time": "2019-11-18T09:12:44.792074Z",
     "start_time": "2019-11-18T09:12:44.784854Z"
    }
   },
   "outputs": [
    {
     "name": "stdout",
     "output_type": "stream",
     "text": [
      "LinearNet(\n",
      "  (linear): Linear(in_features=2, out_features=1, bias=True)\n",
      ")\n"
     ]
    }
   ],
   "source": [
    "net = LinearNet() # initiallized\n",
    "print(net)\n",
    "\n",
    "optimizer_w = torch.optim.SGD([net.linear.weight], lr=0.03, weight_decay=0.1)\n",
    "optimizer_b = torch.optim.SGD([net.linear.bias], lr=0.03)"
   ]
  },
  {
   "cell_type": "code",
   "execution_count": 41,
   "metadata": {
    "ExecuteTime": {
     "end_time": "2019-11-18T09:12:45.348650Z",
     "start_time": "2019-11-18T09:12:44.922237Z"
    }
   },
   "outputs": [
    {
     "name": "stdout",
     "output_type": "stream",
     "text": [
      "epoch 1, loss: 0.046976\n",
      "epoch 2, loss: 0.016501\n",
      "epoch 3, loss: 0.027449\n",
      "epoch 4, loss: 0.040533\n",
      "epoch 5, loss: 0.028795\n",
      "epoch 6, loss: 0.029837\n",
      "epoch 7, loss: 0.041452\n",
      "epoch 8, loss: 0.012664\n",
      "epoch 9, loss: 0.058979\n",
      "epoch 10, loss: 0.014121\n"
     ]
    }
   ],
   "source": [
    "num_epochs = 10\n",
    "optimizers = [optimizer_w, optimizer_b]\n",
    "for epoch in range(1, num_epochs+1):\n",
    "    for X, y in data_iter:\n",
    "        for opti in optimizers:\n",
    "            opti.zero_grad()\n",
    "        y_hat = net(X)\n",
    "        l = loss(y_hat, y.view(y_hat.shape))\n",
    "        l.backward()\n",
    "        \n",
    "        for opti in optimizers:\n",
    "            opti.step()\n",
    "    print('epoch %d, loss: %f' % (epoch, l.item()))    "
   ]
  },
  {
   "cell_type": "code",
   "execution_count": 42,
   "metadata": {
    "ExecuteTime": {
     "end_time": "2019-11-18T09:12:46.605218Z",
     "start_time": "2019-11-18T09:12:46.598251Z"
    }
   },
   "outputs": [
    {
     "name": "stdout",
     "output_type": "stream",
     "text": [
      "[2, -3] Parameter containing:\n",
      "tensor([[ 1.8984, -2.8681]], requires_grad=True)\n",
      "1.8 Parameter containing:\n",
      "tensor([1.8066], requires_grad=True)\n"
     ]
    }
   ],
   "source": [
    "print(true_weight, net.linear.weight)\n",
    "print(true_bias, net.linear.bias)"
   ]
  },
  {
   "cell_type": "code",
   "execution_count": null,
   "metadata": {},
   "outputs": [],
   "source": []
  }
 ],
 "metadata": {
  "kernelspec": {
   "display_name": "Python 3",
   "language": "python",
   "name": "python3"
  },
  "language_info": {
   "codemirror_mode": {
    "name": "ipython",
    "version": 3
   },
   "file_extension": ".py",
   "mimetype": "text/x-python",
   "name": "python",
   "nbconvert_exporter": "python",
   "pygments_lexer": "ipython3",
   "version": "3.6.9"
  },
  "toc": {
   "base_numbering": 1,
   "nav_menu": {},
   "number_sections": true,
   "sideBar": true,
   "skip_h1_title": false,
   "title_cell": "Table of Contents",
   "title_sidebar": "Contents",
   "toc_cell": false,
   "toc_position": {},
   "toc_section_display": true,
   "toc_window_display": false
  }
 },
 "nbformat": 4,
 "nbformat_minor": 2
}
